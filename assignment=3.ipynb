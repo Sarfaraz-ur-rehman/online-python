{
 "cells": [
  {
   "cell_type": "code",
   "execution_count": 1,
   "metadata": {},
   "outputs": [
    {
     "name": "stdout",
     "output_type": "stream",
     "text": [
      "Enter the vale of a:6\n",
      "Enter the value of b:7\n",
      "Enter operator/\n",
      "0.8571428571428571 answer\n"
     ]
    }
   ],
   "source": [
    "#Question:1\n",
    "a = int(input(\"Enter the vale of a:\"))\n",
    "b = int(input(\"Enter the value of b:\"))\n",
    "operator = input(\"Enter operator\")\n",
    "if operator == '+' :\n",
    "    total = a + b\n",
    "    print(total,'answer')\n",
    "elif operator == '-' :\n",
    "    total = a - b\n",
    "    print(total,'answer')\n",
    "elif operator == '*' :\n",
    "    total = a * b\n",
    "    print(total,'answer')\n",
    "elif operator == '/' :\n",
    "    total = a / b\n",
    "    print(total,'answer')\n",
    "else :\n",
    "    print(\"Enter correct operator\")"
   ]
  },
  {
   "cell_type": "code",
   "execution_count": 2,
   "metadata": {},
   "outputs": [
    {
     "name": "stdout",
     "output_type": "stream",
     "text": [
      "Numeric value found : 4\n"
     ]
    }
   ],
   "source": [
    "#Question:2\n",
    "the_list = [\"NAME\",  \"3\", 4,\"Hello\"]\n",
    "for value in the_list:\n",
    "    if type(value) == int or type(value) == float:\n",
    "        print(f\"Numeric value found : {value}\")\n",
    "        break\n"
   ]
  },
  {
   "cell_type": "code",
   "execution_count": 3,
   "metadata": {},
   "outputs": [
    {
     "name": "stdout",
     "output_type": "stream",
     "text": [
      "{'Pakistan': 'Islamabad', 'Uk': 'london', 'Germany': 'Berlin', 'france': 'Paris'}\n"
     ]
    }
   ],
   "source": [
    "#Question:3\n",
    "capitals = {'Pakistan':'Islamabad','Uk':'london','Germany':'Berlin'}\n",
    "capitals ['france'] = 'Paris'\n",
    "print(capitals)"
   ]
  },
  {
   "cell_type": "code",
   "execution_count": 4,
   "metadata": {},
   "outputs": [
    {
     "name": "stdout",
     "output_type": "stream",
     "text": [
      "total attendence 180\n"
     ]
    }
   ],
   "source": [
    "#Question:4\n",
    "student_attendence = {'A':30,'B':40,'C':50,'D':60}\n",
    "tot =sum(student_attendence.values())\n",
    "print('total attendence',tot)"
   ]
  },
  {
   "cell_type": "code",
   "execution_count": 5,
   "metadata": {},
   "outputs": [
    {
     "name": "stdout",
     "output_type": "stream",
     "text": [
      "[6, 9]\n"
     ]
    }
   ],
   "source": [
    "#Question:5\n",
    "list1 = ['sarfaraz',1,1,2,3,4,5,3,2,5,6]\n",
    "list2 = [i for i in range(len(list1)) if list1[i] == 5]\n",
    "print(list2)"
   ]
  },
  {
   "cell_type": "code",
   "execution_count": 7,
   "metadata": {},
   "outputs": [
    {
     "name": "stdout",
     "output_type": "stream",
     "text": [
      "Key is present in the dictionary\n",
      "key is not present in dictionary\n"
     ]
    }
   ],
   "source": [
    "#Question:6\n",
    "d = {1:10,2:20,3:30,4:40,5:50,6:60}\n",
    "def is_key_present(x):\n",
    "    if x in d :\n",
    "        print(\"Key is present in the dictionary\")\n",
    "    else:\n",
    "        print('key is not present in dictionary')\n",
    "is_key_present(6)\n",
    "is_key_present(9)"
   ]
  },
  {
   "cell_type": "code",
   "execution_count": null,
   "metadata": {},
   "outputs": [],
   "source": []
  }
 ],
 "metadata": {
  "kernelspec": {
   "display_name": "Python 3",
   "language": "python",
   "name": "python3"
  },
  "language_info": {
   "codemirror_mode": {
    "name": "ipython",
    "version": 3
   },
   "file_extension": ".py",
   "mimetype": "text/x-python",
   "name": "python",
   "nbconvert_exporter": "python",
   "pygments_lexer": "ipython3",
   "version": "3.7.4"
  }
 },
 "nbformat": 4,
 "nbformat_minor": 2
}
