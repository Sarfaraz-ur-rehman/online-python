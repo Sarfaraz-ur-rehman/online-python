{
 "cells": [
  {
   "cell_type": "code",
   "execution_count": 1,
   "metadata": {},
   "outputs": [
    {
     "name": "stdout",
     "output_type": "stream",
     "text": [
      "Enter the English number75\n",
      "Enter the physics number65\n",
      "Enter the Mathematics number55\n",
      "Enter the Urdu number85\n",
      "Enter the Islamiate number59\n",
      "Grade : B\n"
     ]
    }
   ],
   "source": [
    "#Question:1\n",
    "English = float(input(\"Enter the English number\"))\n",
    "Physics = float(input(\"Enter the physics number\"))\n",
    "Mathematics = float(input(\"Enter the Mathematics number\"))\n",
    "Urdu = float(input(\"Enter the Urdu number\"))\n",
    "Islamiate = float(input(\"Enter the Islamiate number\"))\n",
    "total =(English+Mathematics+Urdu+Islamiate+Physics)\n",
    "percentage = (total/500)*100\n",
    "if(percentage>=80):\n",
    "    print(\"Grade : A+\")\n",
    "elif(percentage>=70 and percentage<80):\n",
    "    print(\"grade : A\")\n",
    "elif(percentage>=60 and percentage<70):\n",
    "    print(\"Grade : B\")\n",
    "elif(percentage>=50 and percentage<60):\n",
    "    print(\"Grade : C\")\n",
    "else:\n",
    "    print(\"Better luck next time\")"
   ]
  },
  {
   "cell_type": "code",
   "execution_count": 2,
   "metadata": {},
   "outputs": [
    {
     "name": "stdout",
     "output_type": "stream",
     "text": [
      "Enter number7\n",
      "7 number is odd\n"
     ]
    }
   ],
   "source": [
    "#Question:2\n",
    "number = int(input(\"Enter number\"))\n",
    "if number %2==0:\n",
    "    print(number,\"number is even\")\n",
    "else:\n",
    "    print(number,\"number is odd\")"
   ]
  },
  {
   "cell_type": "code",
   "execution_count": 3,
   "metadata": {},
   "outputs": [
    {
     "name": "stdout",
     "output_type": "stream",
     "text": [
      "11\n"
     ]
    }
   ],
   "source": [
    "#Question:3\n",
    "a = [1,1,2,3,5,8,13,21,34,55,89]\n",
    "b = len(a)\n",
    "print(b)"
   ]
  },
  {
   "cell_type": "code",
   "execution_count": 4,
   "metadata": {},
   "outputs": [
    {
     "name": "stdout",
     "output_type": "stream",
     "text": [
      "232\n"
     ]
    }
   ],
   "source": [
    "#Question:4\n",
    "a = 1\n",
    "b = 1\n",
    "c = 2\n",
    "d = 3\n",
    "e = 5\n",
    "f = 8\n",
    "g =13\n",
    "h =21\n",
    "i = 34\n",
    "j = 55\n",
    "k = 89\n",
    "total = a+b+c+d+e+f+g+h+i+j+k\n",
    "print(total)"
   ]
  },
  {
   "cell_type": "code",
   "execution_count": 5,
   "metadata": {},
   "outputs": [
    {
     "name": "stdout",
     "output_type": "stream",
     "text": [
      "89\n"
     ]
    }
   ],
   "source": [
    "#Question:5\n",
    "a = [1,1,2,3,5,8,13,21,34,55,89]\n",
    "print(max(a))"
   ]
  },
  {
   "cell_type": "code",
   "execution_count": 6,
   "metadata": {},
   "outputs": [
    {
     "name": "stdout",
     "output_type": "stream",
     "text": [
      "1\n",
      "1\n",
      "2\n",
      "3\n"
     ]
    }
   ],
   "source": [
    "#Question:6\n",
    "a = [1, 1, 2, 3, 5, 8, 13, 21, 34, 55, 89]\n",
    "\n",
    "for i in a:\n",
    "\n",
    "    if i < 5:\n",
    "\n",
    "        print(i)"
   ]
  },
  {
   "cell_type": "code",
   "execution_count": null,
   "metadata": {},
   "outputs": [],
   "source": []
  }
 ],
 "metadata": {
  "kernelspec": {
   "display_name": "Python 3",
   "language": "python",
   "name": "python3"
  },
  "language_info": {
   "codemirror_mode": {
    "name": "ipython",
    "version": 3
   },
   "file_extension": ".py",
   "mimetype": "text/x-python",
   "name": "python",
   "nbconvert_exporter": "python",
   "pygments_lexer": "ipython3",
   "version": "3.7.4"
  }
 },
 "nbformat": 4,
 "nbformat_minor": 2
}
