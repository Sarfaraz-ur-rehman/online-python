{
 "cells": [
  {
   "cell_type": "code",
   "execution_count": 45,
   "metadata": {},
   "outputs": [
    {
     "name": "stdout",
     "output_type": "stream",
     "text": [
      "{'first_name': 'Sarfaraz', 'last_name': 'ur rehman', 'age': 20, 'city': 'Karachi'}\n"
     ]
    }
   ],
   "source": [
    "#Question:1\n",
    "person ={\n",
    "        \"first_name\" : \"Sarfaraz\",\n",
    "        \"last_name\" : \"ur rehman\",\n",
    "        \"age\" : 20,\n",
    "        \"city\" : \"Karachi\",\n",
    "        \n",
    "    }\n",
    "person[\"Qualification\"] = \"intermediate\"\n",
    "person.update({\"Qualification\" : \"Bachlor\"})\n",
    "\n",
    "del person['Qualification']\n",
    "     \n",
    "print(person)\n",
    "    \n"
   ]
  },
  {
   "cell_type": "code",
   "execution_count": 48,
   "metadata": {},
   "outputs": [
    {
     "name": "stdout",
     "output_type": "stream",
     "text": [
      "{'country': 'Pakistan', 'population': '4 billion', 'fact': 'sixth largest city of the world'} {'country': 'England', 'population': '8.9 million', 'fact': 'Over 300 languages are spoken in London'} {'country': 'America', 'population': '8.62 million', 'fact': 'The United Nations headquarters was established in New York City in 1952 after World War II.'}\n"
     ]
    }
   ],
   "source": [
    "#Question:2\n",
    "Karachi = {\n",
    "        \"country\" : \"Pakistan\",\n",
    "        \"population\" : \"4 billion\",\n",
    "        \"fact\" : \"sixth largest city of the world\",\n",
    "    }\n",
    "London = {\n",
    "        \"country\" : \"England\",\n",
    "        \"population\" : \"8.9 million\",\n",
    "        \"fact\" : \"Over 300 languages are spoken in London\"\n",
    "}\n",
    "\n",
    "Newyork = {\n",
    "       \"country\" : \"America\",\n",
    "       \"population\" : \"8.62 million\",\n",
    "       \"fact\" : \"The United Nations headquarters was established in New York City in 1952 after World War II.\"\n",
    "}\n",
    "    \n",
    "print(Karachi,London,Newyork)\n"
   ]
  },
  {
   "cell_type": "code",
   "execution_count": null,
   "metadata": {},
   "outputs": [],
   "source": [
    "#Question:3\n",
    "prompt = \"How old are you?\"\n",
    "prompt += \"\\nEnter 'quit' when you are finished. \"\n",
    "\n",
    "while True:\n",
    "    age = input(prompt)\n",
    "    if age == 'quit':\n",
    "        break\n",
    "    age = int(age)\n",
    "\n",
    "    if age < 3:\n",
    "        print(\"  You get in free!\")\n",
    "    elif age < 13:\n",
    "        print(\"  Your ticket is $10.\")\n",
    "    else:\n",
    "        print(\"  Your ticket is $15.\")"
   ]
  },
  {
   "cell_type": "code",
   "execution_count": null,
   "metadata": {},
   "outputs": [],
   "source": []
  }
 ],
 "metadata": {
  "kernelspec": {
   "display_name": "Python 3",
   "language": "python",
   "name": "python3"
  },
  "language_info": {
   "codemirror_mode": {
    "name": "ipython",
    "version": 3
   },
   "file_extension": ".py",
   "mimetype": "text/x-python",
   "name": "python",
   "nbconvert_exporter": "python",
   "pygments_lexer": "ipython3",
   "version": "3.7.4"
  }
 },
 "nbformat": 4,
 "nbformat_minor": 2
}
