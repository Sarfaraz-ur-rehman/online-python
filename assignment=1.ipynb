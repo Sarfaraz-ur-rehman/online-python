{
 "cells": [
  {
   "cell_type": "code",
   "execution_count": 1,
   "metadata": {},
   "outputs": [
    {
     "name": "stdout",
     "output_type": "stream",
     "text": [
      "Twinkle, twinkle little star,\n",
      "     How I wonder what you are,\n",
      "          Up above the world so high,\n",
      "          Like a diamond in the sky\n",
      "Twinkle,twinkle little star,\n",
      "     How I wonder what you are,\n"
     ]
    }
   ],
   "source": [
    "#Question:1\n",
    "print(\"Twinkle, twinkle little star,\")\n",
    "print(\"     How I wonder what you are,\")\n",
    "print(\"          Up above the world so high,\")\n",
    "print(\"          Like a diamond in the sky\")\n",
    "print(\"Twinkle,twinkle little star,\")\n",
    "print(\"     How I wonder what you are,\")"
   ]
  },
  {
   "cell_type": "code",
   "execution_count": 3,
   "metadata": {},
   "outputs": [
    {
     "name": "stdout",
     "output_type": "stream",
     "text": [
      "python version 3.7.4 (default, Aug  9 2019, 18:34:13) [MSC v.1915 64 bit (AMD64)]\n"
     ]
    }
   ],
   "source": [
    "#Question:2\n",
    "import sys\n",
    "system = \"python version\"\n",
    "print(system,sys.version)"
   ]
  },
  {
   "cell_type": "code",
   "execution_count": 4,
   "metadata": {},
   "outputs": [
    {
     "name": "stdout",
     "output_type": "stream",
     "text": [
      "2019-11-21 03:46:21.297543\n"
     ]
    }
   ],
   "source": [
    "#Question:3\n",
    "from datetime import datetime\n",
    "now = datetime.now()\n",
    "print(now)"
   ]
  },
  {
   "cell_type": "code",
   "execution_count": 5,
   "metadata": {},
   "outputs": [
    {
     "name": "stdout",
     "output_type": "stream",
     "text": [
      "Enter radius5\n",
      "78.55\n"
     ]
    }
   ],
   "source": [
    "#Question:4\n",
    "radius = int(input(\"Enter radius\"))\n",
    "area = 3.142*(radius**2)\n",
    "print(area)"
   ]
  },
  {
   "cell_type": "code",
   "execution_count": 6,
   "metadata": {},
   "outputs": [
    {
     "name": "stdout",
     "output_type": "stream",
     "text": [
      "Write First Name:Sarfaraz\n",
      "Write Last Name:ur rehman\n",
      "Assalam o alaikum ur rehman Sarfaraz\n"
     ]
    }
   ],
   "source": [
    "#Question:5\n",
    "First_name = input(\"Write First Name:\")\n",
    "Last_name = input(\"Write Last Name:\")\n",
    "print(\"Assalam o alaikum \" + Last_name + \" \" + First_name)\n",
    "\n"
   ]
  },
  {
   "cell_type": "code",
   "execution_count": 7,
   "metadata": {},
   "outputs": [
    {
     "name": "stdout",
     "output_type": "stream",
     "text": [
      "Enter the value of a:9\n",
      "Enter the value of b:6\n",
      "15\n"
     ]
    }
   ],
   "source": [
    "#Question:6\n",
    "a = int(input(\"Enter the value of a:\"))\n",
    "b = int(input(\"Enter the value of b:\"))\n",
    "sum = a + b\n",
    "print(sum)"
   ]
  },
  {
   "cell_type": "code",
   "execution_count": null,
   "metadata": {},
   "outputs": [],
   "source": []
  }
 ],
 "metadata": {
  "kernelspec": {
   "display_name": "Python 3",
   "language": "python",
   "name": "python3"
  },
  "language_info": {
   "codemirror_mode": {
    "name": "ipython",
    "version": 3
   },
   "file_extension": ".py",
   "mimetype": "text/x-python",
   "name": "python",
   "nbconvert_exporter": "python",
   "pygments_lexer": "ipython3",
   "version": "3.7.4"
  }
 },
 "nbformat": 4,
 "nbformat_minor": 2
}
